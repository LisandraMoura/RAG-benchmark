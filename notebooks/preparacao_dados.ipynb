{
 "cells": [
  {
   "cell_type": "code",
   "execution_count": 6,
   "metadata": {},
   "outputs": [],
   "source": [
    "import pandas as pd\n",
    "\n",
    "df = pd.read_csv('../data/fundamentos.csv')\n",
    "df_test = df[:100]\n",
    "df_train = df[101:72998]\n",
    "df_test.to_csv('../data/test.csv')\n",
    "df_train.to_csv('../data/train.csv')"
   ]
  },
  {
   "cell_type": "code",
   "execution_count": 7,
   "metadata": {},
   "outputs": [],
   "source": [
    "import csv\n",
    "import json\n",
    "import os\n",
    "\n",
    "def csv_para_json(caminho_csv, caminho_json):\n",
    "    dados = []\n",
    "    \n",
    "    with open(caminho_csv, mode='r', encoding='utf-8') as arquivo_csv:\n",
    "        leitor = csv.DictReader(arquivo_csv)\n",
    "        for linha in leitor:\n",
    "            # Ajuste os nomes das chaves conforme necessário\n",
    "            item = {\n",
    "                \"chunk_heading\": linha.get(\"chunk_heading\", \"\").strip(),\n",
    "                \"text\": linha.get(\"text\", \"\").strip()\n",
    "            }\n",
    "            dados.append(item)\n",
    "    \n",
    "    # Certifique-se de que o diretório de destino existe\n",
    "    os.makedirs(os.path.dirname(caminho_json), exist_ok=True)\n",
    "    \n",
    "    with open(caminho_json, mode='w', encoding='utf-8') as arquivo_json:\n",
    "        json.dump(dados, arquivo_json, ensure_ascii=False, indent=4)\n",
    "    \n",
    "    print(f\"Conversão concluída! JSON salvo em: {caminho_json}\")\n"
   ]
  },
  {
   "cell_type": "code",
   "execution_count": 8,
   "metadata": {},
   "outputs": [
    {
     "name": "stdout",
     "output_type": "stream",
     "text": [
      "Conversão concluída! JSON salvo em: ../data/fundamentos-test.json\n"
     ]
    }
   ],
   "source": [
    "# Exemplo de uso\n",
    "caminho_csv = '/home/lisamenezes/RAG-benchmark/data/test.csv'\n",
    "caminho_json = '../data/fundamentos-test.json'\n",
    "\n",
    "csv_para_json(caminho_csv, caminho_json)"
   ]
  },
  {
   "cell_type": "code",
   "execution_count": 9,
   "metadata": {},
   "outputs": [
    {
     "name": "stdout",
     "output_type": "stream",
     "text": [
      "Conversão concluída! JSON salvo em: ../data/fundamentos-train.json\n"
     ]
    }
   ],
   "source": [
    "# Exemplo de uso\n",
    "# caminho_csv = '../data/fundamentos.csv'\n",
    "caminho_csv = '/home/lisamenezes/RAG-benchmark/data/train.csv'\n",
    "caminho_json = '../data/fundamentos-train.json'\n",
    "\n",
    "csv_para_json(caminho_csv, caminho_json)"
   ]
  }
 ],
 "metadata": {
  "kernelspec": {
   "display_name": "basic",
   "language": "python",
   "name": "python3"
  },
  "language_info": {
   "codemirror_mode": {
    "name": "ipython",
    "version": 3
   },
   "file_extension": ".py",
   "mimetype": "text/x-python",
   "name": "python",
   "nbconvert_exporter": "python",
   "pygments_lexer": "ipython3",
   "version": "3.9.18"
  }
 },
 "nbformat": 4,
 "nbformat_minor": 2
}
